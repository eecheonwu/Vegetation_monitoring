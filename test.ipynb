{
 "cells": [
  {
   "cell_type": "code",
   "execution_count": 16,
   "id": "52f138ea-b422-4b6a-9897-9b1d6865309e",
   "metadata": {},
   "outputs": [],
   "source": [
    "import os\n",
    "import torch\n",
    "import torch.nn as nn\n",
    "import torchvision.transforms as transforms\n",
    "from torchvision import datasets\n",
    "from torch.utils.data import DataLoader, Dataset\n",
    "import numpy as np\n",
    "import pandas as pd\n",
    "from PIL import Image\n",
    "import matplotlib.pyplot as plt\n",
    "import random"
   ]
  },
  {
   "cell_type": "code",
   "execution_count": 17,
   "id": "971661f5-7c34-4c8f-b496-aa4c1caafadb",
   "metadata": {},
   "outputs": [],
   "source": [
    "class EfficientVisionTransformer(nn.Module):\n",
    "\n",
    "  def __init__(self, d_model=600, nhead=8, num_encoder_layers=6, num_decoder_layers=6, dim_feedforward=2048, dropout=0.2, batch_first=True):\n",
    "\n",
    "\n",
    "    super().__init__()\n",
    "    # Patch embedding\n",
    "    self.patch_embedding = nn.Conv2d(3, d_model, kernel_size=16, stride=16)\n",
    "\n",
    "    # Efficient Transformer encoder\n",
    "    encoder_layer = nn.TransformerEncoderLayer(d_model, nhead, dim_feedforward, dropout, batch_first=True)\n",
    "    self.transformer_encoder = nn.TransformerEncoder(encoder_layer, num_encoder_layers)\n",
    "\n",
    "    # Decoder\n",
    "    self.decoder = nn.Linear(d_model, 1)\n",
    "\n",
    "  def forward(self, x):\n",
    "    x = self.patch_embedding(x)\n",
    "    x = x.flatten(2).transpose(1, 2)\n",
    "    x = model.transformer_encoder(x)\n",
    "    x = self.decoder(x.mean(dim=1))\n",
    "    return x"
   ]
  },
  {
   "cell_type": "code",
   "execution_count": 18,
   "id": "1b1c0957-2a70-4688-a89b-6cc320bc5ba8",
   "metadata": {},
   "outputs": [],
   "source": [
    "class MinMaxScaler(nn.Module):\n",
    "  def __init__(self, min_values, max_values):\n",
    "    self.min_values = min_values\n",
    "    self.max_values = max_values\n",
    "\n",
    "  def __call__(self, data):\n",
    "    return (data - self.min_values) / (self.max_values - self.min_values)"
   ]
  },
  {
   "cell_type": "code",
   "execution_count": 19,
   "id": "37ea34af-a109-4df2-b6dd-4a6dfe53aa2f",
   "metadata": {},
   "outputs": [],
   "source": [
    "transform = transforms.Compose([\n",
    "    transforms.Resize(600),\n",
    "    transforms.ToTensor(),\n",
    "    transforms.Normalize((0.2498, 0.3010, 0.1964), (0.1668, 0.1603, 0.1697)),\n",
    "    transforms.RandomHorizontalFlip(),\n",
    "    transforms.RandomVerticalFlip(),\n",
    "    MinMaxScaler(1.8, 7.1)\n",
    "])"
   ]
  },
  {
   "cell_type": "code",
   "execution_count": 20,
   "id": "fe574433-2537-4c40-af24-9f36955249a4",
   "metadata": {},
   "outputs": [],
   "source": [
    "# Define the custom dataset class\n",
    "class ImageLabelDataset(Dataset):\n",
    "    def __init__(self, image_dir, label_file, transform=None):\n",
    "        self.image_dir = image_dir\n",
    "        self.label_file = label_file\n",
    "        self.transform = transform\n",
    "\n",
    "        # Read labels from CSV file\n",
    "        label_df = pd.read_csv(label_file)\n",
    "        self.image_paths = label_df['image'].tolist()\n",
    "        self.labels = label_df['FVC'].tolist()\n",
    "\n",
    "    def __len__(self):\n",
    "        return len(self.image_paths)\n",
    "\n",
    "    def __getitem__(self, index):\n",
    "        image_path = os.path.join(self.image_dir, self.image_paths[index])\n",
    "        image = Image.open(image_path)\n",
    "        label = self.labels[index]\n",
    "\n",
    "        if self.transform is not None:\n",
    "            image = self.transform(image)\n",
    "\n",
    "        return image, label"
   ]
  },
  {
   "cell_type": "markdown",
   "id": "e230bc03-3669-45dc-9617-3836d31e620d",
   "metadata": {},
   "source": [
    "# Boundary value testing"
   ]
  },
  {
   "cell_type": "code",
   "execution_count": 29,
   "id": "68f000fd-c209-4b5c-bf79-586868cfb3e6",
   "metadata": {},
   "outputs": [],
   "source": [
    "# Function to generate synthetic boundary images\n",
    "def generate_boundary_images(image_size):\n",
    "    # Generate images with all pixels set to minimum and maximum values\n",
    "    min_image = torch.zeros(image_size)\n",
    "    max_image = torch.ones(image_size)\n",
    "    min_image1 = torch.full(image_size, 1.8)\n",
    "    max_image2 = torch.full(image_size, 7.1)\n",
    "\n",
    "    # Generate images with alternating pixel patterns\n",
    "    checkered_image = torch.full(image_size, 1.0)\n",
    "    checkered_image[::2, ::2] = 7.1\n",
    "    checkered_image[1::2, 1::2] = 7.1\n",
    "\n",
    "    # Add more boundary cases as needed\n",
    "    boundary_images = [min_image1, max_image2, checkered_image]\n",
    "    return boundary_images"
   ]
  },
  {
   "cell_type": "code",
   "execution_count": 30,
   "id": "6598f020-f06f-44ae-a26b-c782a75912c8",
   "metadata": {},
   "outputs": [],
   "source": [
    "# Function to perform boundary value testing\n",
    "def boundary_value_testing(model, boundary_images):\n",
    "    # Set the model to evaluation mode\n",
    "    model.eval()\n",
    "\n",
    "    # Create a dummy input tensor for the forward pass\n",
    "    dummy_input = torch.randn(1, 3, 600, 600)\n",
    "\n",
    "    # Make predictions on boundary images\n",
    "    with torch.no_grad():\n",
    "        for image in boundary_images:\n",
    "            image = image.unsqueeze(0)  # Add batch dimension\n",
    "            prediction = model(image)\n",
    "            print(f\"Boundary Case: {image.squeeze().numpy()}\")\n",
    "            print(f\"Prediction: {prediction.item()}\")\n",
    "            print(\"---\")\n"
   ]
  },
  {
   "cell_type": "code",
   "execution_count": 31,
   "id": "7e5e61f1-bb74-492e-bb70-29271fe8cecd",
   "metadata": {},
   "outputs": [
    {
     "name": "stdout",
     "output_type": "stream",
     "text": [
      "Boundary Case: [[[1.8 1.8 1.8 ... 1.8 1.8 1.8]\n",
      "  [1.8 1.8 1.8 ... 1.8 1.8 1.8]\n",
      "  [1.8 1.8 1.8 ... 1.8 1.8 1.8]\n",
      "  ...\n",
      "  [1.8 1.8 1.8 ... 1.8 1.8 1.8]\n",
      "  [1.8 1.8 1.8 ... 1.8 1.8 1.8]\n",
      "  [1.8 1.8 1.8 ... 1.8 1.8 1.8]]\n",
      "\n",
      " [[1.8 1.8 1.8 ... 1.8 1.8 1.8]\n",
      "  [1.8 1.8 1.8 ... 1.8 1.8 1.8]\n",
      "  [1.8 1.8 1.8 ... 1.8 1.8 1.8]\n",
      "  ...\n",
      "  [1.8 1.8 1.8 ... 1.8 1.8 1.8]\n",
      "  [1.8 1.8 1.8 ... 1.8 1.8 1.8]\n",
      "  [1.8 1.8 1.8 ... 1.8 1.8 1.8]]\n",
      "\n",
      " [[1.8 1.8 1.8 ... 1.8 1.8 1.8]\n",
      "  [1.8 1.8 1.8 ... 1.8 1.8 1.8]\n",
      "  [1.8 1.8 1.8 ... 1.8 1.8 1.8]\n",
      "  ...\n",
      "  [1.8 1.8 1.8 ... 1.8 1.8 1.8]\n",
      "  [1.8 1.8 1.8 ... 1.8 1.8 1.8]\n",
      "  [1.8 1.8 1.8 ... 1.8 1.8 1.8]]]\n",
      "Prediction: -0.05743939429521561\n",
      "---\n",
      "Boundary Case: [[[7.1 7.1 7.1 ... 7.1 7.1 7.1]\n",
      "  [7.1 7.1 7.1 ... 7.1 7.1 7.1]\n",
      "  [7.1 7.1 7.1 ... 7.1 7.1 7.1]\n",
      "  ...\n",
      "  [7.1 7.1 7.1 ... 7.1 7.1 7.1]\n",
      "  [7.1 7.1 7.1 ... 7.1 7.1 7.1]\n",
      "  [7.1 7.1 7.1 ... 7.1 7.1 7.1]]\n",
      "\n",
      " [[7.1 7.1 7.1 ... 7.1 7.1 7.1]\n",
      "  [7.1 7.1 7.1 ... 7.1 7.1 7.1]\n",
      "  [7.1 7.1 7.1 ... 7.1 7.1 7.1]\n",
      "  ...\n",
      "  [7.1 7.1 7.1 ... 7.1 7.1 7.1]\n",
      "  [7.1 7.1 7.1 ... 7.1 7.1 7.1]\n",
      "  [7.1 7.1 7.1 ... 7.1 7.1 7.1]]\n",
      "\n",
      " [[7.1 7.1 7.1 ... 7.1 7.1 7.1]\n",
      "  [7.1 7.1 7.1 ... 7.1 7.1 7.1]\n",
      "  [7.1 7.1 7.1 ... 7.1 7.1 7.1]\n",
      "  ...\n",
      "  [7.1 7.1 7.1 ... 7.1 7.1 7.1]\n",
      "  [7.1 7.1 7.1 ... 7.1 7.1 7.1]\n",
      "  [7.1 7.1 7.1 ... 7.1 7.1 7.1]]]\n",
      "Prediction: -0.05737143009901047\n",
      "---\n",
      "Boundary Case: [[[7.1 7.1 7.1 ... 7.1 7.1 7.1]\n",
      "  [1.  1.  1.  ... 1.  1.  1. ]\n",
      "  [7.1 7.1 7.1 ... 7.1 7.1 7.1]\n",
      "  ...\n",
      "  [1.  1.  1.  ... 1.  1.  1. ]\n",
      "  [7.1 7.1 7.1 ... 7.1 7.1 7.1]\n",
      "  [1.  1.  1.  ... 1.  1.  1. ]]\n",
      "\n",
      " [[1.  1.  1.  ... 1.  1.  1. ]\n",
      "  [7.1 7.1 7.1 ... 7.1 7.1 7.1]\n",
      "  [1.  1.  1.  ... 1.  1.  1. ]\n",
      "  ...\n",
      "  [7.1 7.1 7.1 ... 7.1 7.1 7.1]\n",
      "  [1.  1.  1.  ... 1.  1.  1. ]\n",
      "  [7.1 7.1 7.1 ... 7.1 7.1 7.1]]\n",
      "\n",
      " [[7.1 7.1 7.1 ... 7.1 7.1 7.1]\n",
      "  [1.  1.  1.  ... 1.  1.  1. ]\n",
      "  [7.1 7.1 7.1 ... 7.1 7.1 7.1]\n",
      "  ...\n",
      "  [1.  1.  1.  ... 1.  1.  1. ]\n",
      "  [7.1 7.1 7.1 ... 7.1 7.1 7.1]\n",
      "  [1.  1.  1.  ... 1.  1.  1. ]]]\n",
      "Prediction: -0.05659707635641098\n",
      "---\n"
     ]
    }
   ],
   "source": [
    "# Load the trained model\n",
    "model = EfficientVisionTransformer()\n",
    "model = torch.load('/home/emmanuel/Project/model3.pt', map_location=torch.device('cpu'))\n",
    "# ... (load the model weights, e.g., model.load_state_dict(torch.load('model.pth')))\n",
    "\n",
    "# Generate boundary images\n",
    "boundary_images = generate_boundary_images((3, 600, 600))\n",
    "\n",
    "# Call the boundary value testing function\n",
    "boundary_value_testing(model, boundary_images)"
   ]
  },
  {
   "cell_type": "code",
   "execution_count": 20,
   "id": "52575f14-307a-4533-aa26-da5ff78ebfdf",
   "metadata": {},
   "outputs": [
    {
     "name": "stdout",
     "output_type": "stream",
     "text": [
      "-0.13920425294637678\n"
     ]
    }
   ],
   "source": [
    "prediction = -0.05737143009901047\n",
    "output = (prediction - 0.5) * (7.0 - 1.0) + 1.0\n",
    "output = output * 0.1656 + 0.2490\n",
    "print(output)"
   ]
  },
  {
   "cell_type": "markdown",
   "id": "dd65b238-15ea-4968-8e10-fe01e2ce58ac",
   "metadata": {},
   "source": [
    "# Regression Testing"
   ]
  },
  {
   "cell_type": "code",
   "execution_count": 6,
   "id": "9b7e9f18-a69d-4d07-bdca-afc42b550f4d",
   "metadata": {},
   "outputs": [],
   "source": [
    "# Load the trained model\n",
    "model = EfficientVisionTransformer()\n",
    "model = torch.load('/home/emmanuel/Project/model3.pt', map_location=torch.device('cpu'))\n",
    "# ... (load the model weights, e.g., model.load_state_dict(torch.load('model.pth')))"
   ]
  },
  {
   "cell_type": "code",
   "execution_count": 7,
   "id": "c83114e2-6eb6-4104-b293-e2e7a4c0c104",
   "metadata": {},
   "outputs": [],
   "source": [
    "# Define a regression test dataset\n",
    "val_dataset = ImageLabelDataset('/home/emmanuel/Project/ImageDataset/Validation', '/home/emmanuel/Project/ImageDataset/Validation/validation.csv', transform=transform)\n",
    "test_loader = DataLoader(val_dataset, batch_size=4, shuffle=False)"
   ]
  },
  {
   "cell_type": "code",
   "execution_count": 1,
   "id": "8c6944c8-b43b-4580-86c9-1b00cf25a52b",
   "metadata": {},
   "outputs": [],
   "source": [
    "# Function to perform regression testing\n",
    "def regression_testing(model, test_loader, expected_results):\n",
    "    # Set the model to evaluation mode\n",
    "    model.eval()\n",
    "\n",
    "    # Iterate over the test dataset\n",
    "    with torch.no_grad():\n",
    "        for images, targets in test_loader:\n",
    "            predictions = model(images)\n",
    "            predictions = (predictions - 0.5) * (7.0 - 1.0) + 1.0\n",
    "            predictions = predictions * 0.1656 + 0.2490\n",
    "\n",
    "            # Compare predictions with expected results\n",
    "            for i in range(len(predictions)):\n",
    "                prediction = predictions[i].item()\n",
    "                expected_result = expected_results[i]\n",
    "                assert abs(prediction - expected_result) < 10e1, f\"Regression detected for input {images[i].numpy()}\"\n",
    "\n",
    "    print(\"Regression testing passed\")"
   ]
  },
  {
   "cell_type": "code",
   "execution_count": 31,
   "id": "e3938bf3-9125-41c1-8d01-8105aebbeb9e",
   "metadata": {},
   "outputs": [],
   "source": [
    "# Load expected results for the test dataset\n",
    "expected_results = [0.89,1,1,0.99,1,0.94,1,0.67,0.94,0.98,0.87,0.81,0.85,0.91,0.44,1,1,0.98,1,0.94,1,0.57,0.95,1,1,0.87,0.62,1,0.19,\n",
    "1,1,1,0.9,0.36,0.9,0.33,1,1,1,0.99,0.86,1,0.16,1,1,0.96,0.99,1,0.97,0.04,0.99,1,1,1,1,1,0.1,0.93,1,0.78,1,1,1,0.09,0.73,0.84,0.68,0.95,\n",
    "1,1,0,0.48,1,0.98,0.98,0.88,1,0,0.5,1,1,1,1,1,0.83,1,1,0.86,0.98,0.8,0.74,0.57,1,1,1,0.99,1,1,0.37,1,1,0.92,1,1,1,0.45,0.11,0.05,0.53,\n",
    "0.99,0.99,0.95,0.46,0.62,0.26,0.38,0.97,0.89,1,1,0.57,0.94,0.94,1,0.66,0.79,0.93,1,0.69,0.96,0.97,0.77,0.84,1,0.87,0.06,0.85,0.71,0.91,\n",
    "0.95,0.99,0.97,0.97,1,0.94,0.6,1,0.91,1,1,1,1,0.99,0.72,0.9,0.97,0.89,0.54,0.61,0.67,0.15,0.88,0.23,0.08,0.41,0.77,0.9,1,0.99,0.89,0.64,\n",
    "0.41,0.51,0.63,1,1,0.94,0.93,0.31,0.01,0.02,0.6,0.93,0.85,0.93,0.98,0.71,0.48,0.57,0.99,0.87,0.99,0.94,0.75,0.92,0.87,1,1,1,0.81,1,0.63,\n",
    "0.98,0.9,0.61,0.9,0.99,0.99,0.87,0.9,0.59,0.83,0.93,0.79,0.99,0.88,0.85,0.71,0.01,0.02,0.57,0.92,1,0.86,0.78,0.65,0.04,0.05,0.7,0.84,1,\n",
    "0.94,0.88,0.71,0.63,0.4,0.72,0.72,1,0.92,0.71,0.66,0.22,0,0.2,0.74,0.92,0.91,0.75,0.91,0.01,0.01,0,0,0.46,0.05,0.78,0.04,0.04,0,0.08,\n",
    "0.22,0.16,0.61,0.63,0.7,0.44,0.07,0.09,0.23,0.63,0.86,0.82,0.18,0.16,0.06,0.28,0.32,0.29,0.1,0.29,0.63,0.89]  # Replace with actual expected results"
   ]
  },
  {
   "cell_type": "code",
   "execution_count": 32,
   "id": "5b70efef-745c-4083-807b-f72eaaa9c1bc",
   "metadata": {},
   "outputs": [
    {
     "ename": "AssertionError",
     "evalue": "Regression detected for input [[[-0.4580584  -0.50685394 -0.5379057  ... -0.49798203 -0.56895745\n   -0.622189  ]\n  [-0.46249434 -0.4846742  -0.4935461  ... -0.52016187 -0.55121356\n   -0.58670133]\n  [-0.4891101  -0.47136626 -0.4447505  ... -0.53346974 -0.5290338\n   -0.52016187]\n  ...\n  [-0.5822653  -0.6000092  -0.6133171  ... -0.622189   -0.6133171\n   -0.5955732 ]\n  [-0.5733934  -0.58670133 -0.60444516 ... -0.622189   -0.622189\n   -0.5822653 ]\n  [-0.5645215  -0.57782936 -0.5955732  ... -0.622189   -0.622189\n   -0.56895745]]\n\n [[-0.36618674 -0.4354243  -0.48158267 ... -0.38465008 -0.44927183\n   -0.5092777 ]\n  [-0.37541842 -0.4123451  -0.44004017 ... -0.3984976  -0.43080845\n   -0.46311936]\n  [-0.40311345 -0.40311345 -0.38926592 ... -0.4123451  -0.3938818\n   -0.3938818 ]\n  ...\n  [-0.6108261  -0.62005776 -0.6339053  ... -0.62928945 -0.62005776\n   -0.60159445]\n  [-0.60159445 -0.6154419  -0.62467355 ... -0.6385211  -0.62005776\n   -0.5877469 ]\n  [-0.5923627  -0.60621023 -0.6154419  ... -0.643137   -0.6154419\n   -0.5738994 ]]\n\n [[-0.3530606  -0.42718327 -0.50130594 ... -0.40102232 -0.475145\n   -0.54926765]\n  [-0.34870046 -0.3966622  -0.44462392 ... -0.41846296 -0.45770437\n   -0.50566614]\n  [-0.35742077 -0.37050125 -0.38794187 ... -0.42282313 -0.42718327\n   -0.44026372]\n  ...\n  [-0.557988   -0.557988   -0.557988   ... -0.557988   -0.5449075\n   -0.5274669 ]\n  [-0.5536278  -0.557988   -0.557988   ... -0.557988   -0.557988\n   -0.5143865 ]\n  [-0.5536278  -0.557988   -0.557988   ... -0.557988   -0.5536278\n   -0.50130594]]]",
     "output_type": "error",
     "traceback": [
      "\u001b[0;31m---------------------------------------------------------------------------\u001b[0m",
      "\u001b[0;31mAssertionError\u001b[0m                            Traceback (most recent call last)",
      "Cell \u001b[0;32mIn[32], line 2\u001b[0m\n\u001b[1;32m      1\u001b[0m \u001b[38;5;66;03m# Call the regression testing function\u001b[39;00m\n\u001b[0;32m----> 2\u001b[0m regression_testing(model, test_loader, expected_results)\n",
      "Cell \u001b[0;32mIn[30], line 17\u001b[0m, in \u001b[0;36mregression_testing\u001b[0;34m(model, test_loader, expected_results)\u001b[0m\n\u001b[1;32m     15\u001b[0m             prediction \u001b[38;5;241m=\u001b[39m predictions[i]\u001b[38;5;241m.\u001b[39mitem()\n\u001b[1;32m     16\u001b[0m             expected_result \u001b[38;5;241m=\u001b[39m expected_results[i]\n\u001b[0;32m---> 17\u001b[0m             \u001b[38;5;28;01massert\u001b[39;00m \u001b[38;5;28mabs\u001b[39m(prediction \u001b[38;5;241m-\u001b[39m expected_result) \u001b[38;5;241m<\u001b[39m \u001b[38;5;241m5e-02\u001b[39m, \u001b[38;5;124mf\u001b[39m\u001b[38;5;124m\"\u001b[39m\u001b[38;5;124mRegression detected for input \u001b[39m\u001b[38;5;132;01m{\u001b[39;00mimages[i]\u001b[38;5;241m.\u001b[39mnumpy()\u001b[38;5;132;01m}\u001b[39;00m\u001b[38;5;124m\"\u001b[39m\n\u001b[1;32m     19\u001b[0m \u001b[38;5;28mprint\u001b[39m(\u001b[38;5;124m\"\u001b[39m\u001b[38;5;124mRegression testing passed\u001b[39m\u001b[38;5;124m\"\u001b[39m)\n",
      "\u001b[0;31mAssertionError\u001b[0m: Regression detected for input [[[-0.4580584  -0.50685394 -0.5379057  ... -0.49798203 -0.56895745\n   -0.622189  ]\n  [-0.46249434 -0.4846742  -0.4935461  ... -0.52016187 -0.55121356\n   -0.58670133]\n  [-0.4891101  -0.47136626 -0.4447505  ... -0.53346974 -0.5290338\n   -0.52016187]\n  ...\n  [-0.5822653  -0.6000092  -0.6133171  ... -0.622189   -0.6133171\n   -0.5955732 ]\n  [-0.5733934  -0.58670133 -0.60444516 ... -0.622189   -0.622189\n   -0.5822653 ]\n  [-0.5645215  -0.57782936 -0.5955732  ... -0.622189   -0.622189\n   -0.56895745]]\n\n [[-0.36618674 -0.4354243  -0.48158267 ... -0.38465008 -0.44927183\n   -0.5092777 ]\n  [-0.37541842 -0.4123451  -0.44004017 ... -0.3984976  -0.43080845\n   -0.46311936]\n  [-0.40311345 -0.40311345 -0.38926592 ... -0.4123451  -0.3938818\n   -0.3938818 ]\n  ...\n  [-0.6108261  -0.62005776 -0.6339053  ... -0.62928945 -0.62005776\n   -0.60159445]\n  [-0.60159445 -0.6154419  -0.62467355 ... -0.6385211  -0.62005776\n   -0.5877469 ]\n  [-0.5923627  -0.60621023 -0.6154419  ... -0.643137   -0.6154419\n   -0.5738994 ]]\n\n [[-0.3530606  -0.42718327 -0.50130594 ... -0.40102232 -0.475145\n   -0.54926765]\n  [-0.34870046 -0.3966622  -0.44462392 ... -0.41846296 -0.45770437\n   -0.50566614]\n  [-0.35742077 -0.37050125 -0.38794187 ... -0.42282313 -0.42718327\n   -0.44026372]\n  ...\n  [-0.557988   -0.557988   -0.557988   ... -0.557988   -0.5449075\n   -0.5274669 ]\n  [-0.5536278  -0.557988   -0.557988   ... -0.557988   -0.557988\n   -0.5143865 ]\n  [-0.5536278  -0.557988   -0.557988   ... -0.557988   -0.5536278\n   -0.50130594]]]"
     ]
    }
   ],
   "source": [
    "# Call the regression testing function\n",
    "regression_testing(model, test_loader, expected_results)"
   ]
  },
  {
   "cell_type": "code",
   "execution_count": 2,
   "id": "3a5c564c-bd1b-4e66-a997-71dafd5ab01a",
   "metadata": {},
   "outputs": [
    {
     "data": {
      "text/plain": [
       "283"
      ]
     },
     "execution_count": 2,
     "metadata": {},
     "output_type": "execute_result"
    }
   ],
   "source": [
    "len(expected_results)"
   ]
  },
  {
   "cell_type": "markdown",
   "id": "7e8eb27f-71fc-4a64-b765-0f1ab7ab8339",
   "metadata": {},
   "source": [
    "# Interpretability Testing"
   ]
  },
  {
   "cell_type": "code",
   "execution_count": 33,
   "id": "fd8b37f7-e7d6-4709-af04-156ba148e20b",
   "metadata": {},
   "outputs": [],
   "source": [
    "# Load the trained model\n",
    "model = EfficientVisionTransformer()\n",
    "model = torch.load('/home/emmanuel/Project/model3.pt', map_location=torch.device('cpu'))"
   ]
  },
  {
   "cell_type": "code",
   "execution_count": 34,
   "id": "6811b302-92b0-40f8-892a-5512a49e001a",
   "metadata": {},
   "outputs": [],
   "source": [
    "# Define the path to your sample image (replace with your actual path)\n",
    "image_path = \"/home/emmanuel/Project/ImageDataset/Test/01_00000087.jpg_tile_5_6.jpg\""
   ]
  },
  {
   "cell_type": "code",
   "execution_count": 35,
   "id": "cf8f910a-b426-475a-9fce-5e4705157299",
   "metadata": {},
   "outputs": [],
   "source": [
    "# Load the image using Pillow (PIL Fork)\n",
    "img = transforms.ToTensor()(Image.open(image_path))"
   ]
  },
  {
   "cell_type": "code",
   "execution_count": 36,
   "id": "801e8e3e-17d1-420d-b996-6b4928ad1b7d",
   "metadata": {},
   "outputs": [],
   "source": [
    "# Ensure the image has 3 channels (RGB) for compatibility with the model\n",
    "if img.shape[0] != 3:\n",
    "    raise ValueError(\"Image must have 3 channels (RGB).\")"
   ]
  },
  {
   "cell_type": "code",
   "execution_count": 37,
   "id": "9261a3ea-d59c-4b41-9c2f-3a6f311b23f1",
   "metadata": {},
   "outputs": [],
   "source": [
    "# Add a batch dimension (unsqueeze) for compatibility with the model\n",
    "img = img.unsqueeze(0)  # Batch size of 1"
   ]
  },
  {
   "cell_type": "code",
   "execution_count": 38,
   "id": "982d5442-763c-47d6-b905-8aea9618ddda",
   "metadata": {},
   "outputs": [
    {
     "name": "stdout",
     "output_type": "stream",
     "text": [
      "Image loaded and converted to tensor. Shape: torch.Size([1, 3, 600, 600])\n"
     ]
    }
   ],
   "source": [
    "print(f\"Image loaded and converted to tensor. Shape: {img.shape}\")"
   ]
  },
  {
   "cell_type": "code",
   "execution_count": 39,
   "id": "41ac091a-6ee2-486a-b01a-df8596a4ec9e",
   "metadata": {},
   "outputs": [],
   "source": [
    "# Forward pass\n",
    "output = model(img)"
   ]
  },
  {
   "cell_type": "code",
   "execution_count": 40,
   "id": "239d2644-3bc7-451b-a731-13ebac1084e2",
   "metadata": {},
   "outputs": [],
   "source": [
    "# Basic interpretability checks:\n",
    "\n",
    "# 1. Input shape compatibility\n",
    "assert img.shape[1] == 3, \"Input image must have 3 channels (RGB)\""
   ]
  },
  {
   "cell_type": "code",
   "execution_count": 41,
   "id": "b0f5bf81-31b7-4b45-9d81-421ef413eef8",
   "metadata": {},
   "outputs": [],
   "source": [
    "# 2. Output shape (assuming regression for simplicity)\n",
    "assert output.shape[1] == 1, \"Model output should have 1 dimension for regression\""
   ]
  },
  {
   "cell_type": "code",
   "execution_count": 42,
   "id": "5e69974b-ae82-49ac-8f15-f1b4b62a823a",
   "metadata": {},
   "outputs": [
    {
     "name": "stdout",
     "output_type": "stream",
     "text": [
      "Parameter: patch_embedding.weight, Gradient mean: -3.333434142405167e-05\n",
      "Parameter: patch_embedding.bias, Gradient mean: -0.00018543006444815546\n",
      "Parameter: transformer_encoder.layers.0.self_attn.in_proj_weight, Gradient mean: -4.6150935872901755e-07\n",
      "Parameter: transformer_encoder.layers.0.self_attn.in_proj_bias, Gradient mean: 0.00020311609841883183\n",
      "Parameter: transformer_encoder.layers.0.self_attn.out_proj.bias, Gradient mean: -1.9868215406226852e-10\n",
      "Parameter: transformer_encoder.layers.0.linear1.bias, Gradient mean: -0.0001544733386253938\n",
      "Parameter: transformer_encoder.layers.0.linear1.weight_orig, Gradient mean: 2.6261453456299932e-08\n",
      "Parameter: transformer_encoder.layers.0.linear2.bias, Gradient mean: -4.46258741765293e-12\n",
      "Parameter: transformer_encoder.layers.0.linear2.weight_orig, Gradient mean: -2.4461533243425038e-08\n",
      "Parameter: transformer_encoder.layers.0.norm1.weight, Gradient mean: -4.359465037850896e-06\n",
      "Parameter: transformer_encoder.layers.0.norm1.bias, Gradient mean: -2.3505976059823297e-05\n",
      "Parameter: transformer_encoder.layers.0.norm2.weight, Gradient mean: 2.291310465807328e-06\n",
      "Parameter: transformer_encoder.layers.0.norm2.bias, Gradient mean: -2.159691575798206e-05\n",
      "Parameter: transformer_encoder.layers.1.self_attn.in_proj_weight, Gradient mean: -1.5847255729894982e-09\n",
      "Parameter: transformer_encoder.layers.1.self_attn.in_proj_bias, Gradient mean: 8.054618774622213e-06\n",
      "Parameter: transformer_encoder.layers.1.self_attn.out_proj.bias, Gradient mean: 5.82076596124248e-13\n",
      "Parameter: transformer_encoder.layers.1.linear1.bias, Gradient mean: -7.84760004535201e-07\n",
      "Parameter: transformer_encoder.layers.1.linear1.weight_orig, Gradient mean: 4.782501505928849e-08\n",
      "Parameter: transformer_encoder.layers.1.linear2.bias, Gradient mean: 3.880510821528682e-13\n",
      "Parameter: transformer_encoder.layers.1.linear2.weight_orig, Gradient mean: 1.5945710174491978e-07\n",
      "Parameter: transformer_encoder.layers.1.norm1.weight, Gradient mean: -1.8528778582549421e-06\n",
      "Parameter: transformer_encoder.layers.1.norm1.bias, Gradient mean: -4.874029400525615e-06\n",
      "Parameter: transformer_encoder.layers.1.norm2.weight, Gradient mean: 9.151543054031208e-05\n",
      "Parameter: transformer_encoder.layers.1.norm2.bias, Gradient mean: -1.342271571047604e-05\n",
      "Parameter: transformer_encoder.layers.2.self_attn.in_proj_weight, Gradient mean: 5.677182612906506e-10\n",
      "Parameter: transformer_encoder.layers.2.self_attn.in_proj_bias, Gradient mean: -3.528709839883959e-06\n",
      "Parameter: transformer_encoder.layers.2.self_attn.out_proj.bias, Gradient mean: 1.940255410764341e-13\n",
      "Parameter: transformer_encoder.layers.2.linear1.bias, Gradient mean: 1.88646481547039e-05\n",
      "Parameter: transformer_encoder.layers.2.linear1.weight_orig, Gradient mean: -1.4525418201571938e-08\n",
      "Parameter: transformer_encoder.layers.2.linear2.bias, Gradient mean: 1.164153192248496e-12\n",
      "Parameter: transformer_encoder.layers.2.linear2.weight_orig, Gradient mean: -8.385211458517006e-08\n",
      "Parameter: transformer_encoder.layers.2.norm1.weight, Gradient mean: -7.684071192670672e-07\n",
      "Parameter: transformer_encoder.layers.2.norm1.bias, Gradient mean: 1.9633423562481767e-06\n",
      "Parameter: transformer_encoder.layers.2.norm2.weight, Gradient mean: 1.3206055200498668e-06\n",
      "Parameter: transformer_encoder.layers.2.norm2.bias, Gradient mean: -4.836334028368583e-06\n",
      "Parameter: transformer_encoder.layers.3.self_attn.in_proj_weight, Gradient mean: 4.718744145426612e-11\n",
      "Parameter: transformer_encoder.layers.3.self_attn.in_proj_bias, Gradient mean: -6.367394689732464e-06\n",
      "Parameter: transformer_encoder.layers.3.self_attn.out_proj.bias, Gradient mean: 1.746229788372744e-12\n",
      "Parameter: transformer_encoder.layers.3.linear1.bias, Gradient mean: 3.348731843288988e-05\n",
      "Parameter: transformer_encoder.layers.3.linear1.weight_orig, Gradient mean: -6.189469381467916e-09\n",
      "Parameter: transformer_encoder.layers.3.linear2.bias, Gradient mean: 1.164153192248496e-12\n",
      "Parameter: transformer_encoder.layers.3.linear2.weight_orig, Gradient mean: -2.2201143679012603e-07\n",
      "Parameter: transformer_encoder.layers.3.norm1.weight, Gradient mean: -1.3667671510120272e-06\n",
      "Parameter: transformer_encoder.layers.3.norm1.bias, Gradient mean: 9.313186666304318e-08\n",
      "Parameter: transformer_encoder.layers.3.norm2.weight, Gradient mean: 4.02254045184236e-05\n",
      "Parameter: transformer_encoder.layers.3.norm2.bias, Gradient mean: -5.783728738606442e-06\n",
      "Parameter: transformer_encoder.layers.4.self_attn.in_proj_weight, Gradient mean: 2.2761113827041157e-10\n",
      "Parameter: transformer_encoder.layers.4.self_attn.in_proj_bias, Gradient mean: -1.1187451491423417e-05\n",
      "Parameter: transformer_encoder.layers.4.self_attn.out_proj.bias, Gradient mean: -3.1044086572229457e-12\n",
      "Parameter: transformer_encoder.layers.4.linear1.bias, Gradient mean: 0.00010042781650554389\n",
      "Parameter: transformer_encoder.layers.4.linear1.weight_orig, Gradient mean: 1.9975310294739757e-07\n",
      "Parameter: transformer_encoder.layers.4.linear2.bias, Gradient mean: 7.761021643057364e-13\n",
      "Parameter: transformer_encoder.layers.4.linear2.weight_orig, Gradient mean: 4.2628633423191786e-07\n",
      "Parameter: transformer_encoder.layers.4.norm1.weight, Gradient mean: -6.5853664636961184e-06\n",
      "Parameter: transformer_encoder.layers.4.norm1.bias, Gradient mean: -3.537443990353495e-05\n",
      "Parameter: transformer_encoder.layers.4.norm2.weight, Gradient mean: -1.2234821952006314e-05\n",
      "Parameter: transformer_encoder.layers.4.norm2.bias, Gradient mean: -3.899986404576339e-05\n",
      "Parameter: transformer_encoder.layers.5.self_attn.in_proj_weight, Gradient mean: -2.3315689379188598e-09\n",
      "Parameter: transformer_encoder.layers.5.self_attn.in_proj_bias, Gradient mean: -9.18789464776637e-06\n",
      "Parameter: transformer_encoder.layers.5.self_attn.out_proj.bias, Gradient mean: 1.5522043286114728e-12\n",
      "Parameter: transformer_encoder.layers.5.linear1.bias, Gradient mean: 0.00026586322928778827\n",
      "Parameter: transformer_encoder.layers.5.linear1.weight_orig, Gradient mean: 6.678708359686425e-07\n",
      "Parameter: transformer_encoder.layers.5.linear2.bias, Gradient mean: 3.1044087439591195e-11\n",
      "Parameter: transformer_encoder.layers.5.linear2.weight_orig, Gradient mean: 1.8399969121674076e-06\n",
      "Parameter: transformer_encoder.layers.5.norm1.weight, Gradient mean: -2.237983062514104e-05\n",
      "Parameter: transformer_encoder.layers.5.norm1.bias, Gradient mean: -2.1753714463557117e-05\n",
      "Parameter: transformer_encoder.layers.5.norm2.weight, Gradient mean: 5.506371599039994e-05\n",
      "Parameter: transformer_encoder.layers.5.norm2.bias, Gradient mean: 0.0007222591084428132\n",
      "Parameter: decoder.bias, Gradient mean: 1.0\n",
      "Parameter: decoder.weight_orig, Gradient mean: -0.006296318955719471\n",
      "Interpretability checks passed (basic)!\n"
     ]
    }
   ],
   "source": [
    "# 3. Gradient check (optional, for rudimentary sanity check)\n",
    "output.backward()  # Calculate gradients\n",
    "for name, param in model.named_parameters():\n",
    "    if param.grad is not None:\n",
    "        print(f\"Parameter: {name}, Gradient mean: {param.grad.mean().item()}\")\n",
    "print(\"Interpretability checks passed (basic)!\")"
   ]
  },
  {
   "cell_type": "markdown",
   "id": "ba19e821-1269-4980-97d6-9589bfcf5032",
   "metadata": {},
   "source": [
    "## Interpretabilty Explainer"
   ]
  },
  {
   "cell_type": "code",
   "execution_count": 43,
   "id": "c47001cd-752d-4ae8-8e31-a0e0e9a4b93a",
   "metadata": {},
   "outputs": [],
   "source": [
    "def predict(prediction):\n",
    "    output = (prediction - 0.5) * (7.0 - 1.0) + 1.0\n",
    "    output = output * 0.1656 + 0.2490\n",
    "    return output"
   ]
  },
  {
   "cell_type": "code",
   "execution_count": 44,
   "id": "633d4593-9a59-4d48-b7d3-0988c2d429a9",
   "metadata": {},
   "outputs": [],
   "source": [
    "# Forward pass to get output probabilities\n",
    "# Define the path to your sample image (replace with your actual path)\n",
    "image_path = \"/home/emmanuel/Project/ImageDataset/Test/01_00000087.jpg_tile_5_6.jpg\"\n",
    "img = Image.open(image_path)"
   ]
  },
  {
   "cell_type": "code",
   "execution_count": null,
   "id": "cb205923-ba57-4889-bc70-b04b277bc9db",
   "metadata": {},
   "outputs": [],
   "source": []
  },
  {
   "cell_type": "code",
   "execution_count": 45,
   "id": "fb8c973e-c1c2-42c1-8225-14916ee72d3c",
   "metadata": {},
   "outputs": [],
   "source": [
    "def preprocess_image(image):\n",
    "    # Assuming image is a tensor with shape (channels, height, width)\n",
    "    mean = torch.tensor([0.2498, 0.3010, 0.1964])  # Replace with appropriate mean values if needed\n",
    "    std = torch.tensor([0.1668, 0.1603, 0.1697])  # Replace with appropriate std values if needed\n",
    "    image = image.permute(1, 2, 0)  # Move channel dimension to last if necessary\n",
    "    image = (image - mean) / std  # Normalize based on mean and standard deviation\n",
    "    return image "
   ]
  },
  {
   "cell_type": "code",
   "execution_count": null,
   "id": "9d73b273-4fd3-4630-9d15-28a5fd55ffd7",
   "metadata": {},
   "outputs": [],
   "source": []
  },
  {
   "cell_type": "code",
   "execution_count": 46,
   "id": "359a1f71-2b63-4a64-8da5-d9b0be10dd4b",
   "metadata": {},
   "outputs": [],
   "source": [
    "def visualize_images(original_image, perturbed_image, title=\"Original vs. Perturbed Image\"):\n",
    "    fig, (ax1, ax2) = plt.subplots(1, 2)\n",
    "\n",
    "    # Assuming original_image and perturbed_image are preprocessed tensors\n",
    "    #original_image = original_image.squeeze()  # Move channel dimension to last\n",
    "    #perturbed_image = perturbed_image.squeeze()\n",
    "\n",
    "    original_image = original_image.squeeze() * 255  # Assuming uint8 image\n",
    "    perturbed_image = perturbed_image.squeeze()* 255  # Assuming uint8 image\n",
    "    original_image = torch.clamp(original_image, 0, 255)  # Clip values to 0-255\n",
    "    perturbed_image = torch.clamp(perturbed_image, 0, 255)  # Clip values to 0-255\n",
    "    original_image = original_image.to(torch.uint8)  # Convert to uint8 for proper display\n",
    "    perturbed_image = perturbed_image.to(torch.uint8)  # Convert to uint8 for proper display\n",
    "\n",
    "    ax1.imshow(original_image)\n",
    "    ax1.set_title(\"Original Image\")\n",
    "    ax1.axis('off')\n",
    "\n",
    "    ax2.imshow(perturbed_image)\n",
    "    ax2.set_title(\"Perturbed Image\")\n",
    "    ax2.axis('off')\n",
    "\n",
    "    plt.suptitle(title)\n",
    "    plt.tight_layout()\n",
    "    plt.show()"
   ]
  },
  {
   "cell_type": "code",
   "execution_count": 47,
   "id": "4d633462-3972-4b52-bcbb-3d10ef4febd9",
   "metadata": {},
   "outputs": [],
   "source": [
    "# Define perturbation function (replace with your desired modifications)\n",
    "def perturb(image, mask_size=32):\n",
    "    mask = torch.zeros_like(image[0])\n",
    "    mask.random_(0, 255)\n",
    "    mask[:, mask_size // 2:-mask_size // 2, mask_size // 2:-mask_size // 2] = 255  # Apply mask to a central region\n",
    "    return image + mask"
   ]
  },
  {
   "cell_type": "code",
   "execution_count": 48,
   "id": "dca742ce-4d7b-4172-9353-e0c09ea71650",
   "metadata": {},
   "outputs": [],
   "source": [
    "img = transform(img)"
   ]
  },
  {
   "cell_type": "code",
   "execution_count": 49,
   "id": "820a36d5-1460-4950-a0c1-ca6d91af5854",
   "metadata": {},
   "outputs": [],
   "source": [
    "# Create a copy of the image for perturbation\n",
    "perturbed_image = img.clone()"
   ]
  },
  {
   "cell_type": "code",
   "execution_count": 50,
   "id": "37a053e6-c940-46da-9f94-c9be1cf19868",
   "metadata": {},
   "outputs": [],
   "source": [
    "# Perturb the image and get predictions\n",
    "perturbed_output = model(perturb(perturbed_image.unsqueeze(0)))\n",
    "original_prediction = model(img.unsqueeze(0))"
   ]
  },
  {
   "cell_type": "code",
   "execution_count": 51,
   "id": "2fdc13a7-a79c-43c2-ac0a-3e4fb4e8f1bd",
   "metadata": {},
   "outputs": [],
   "source": [
    "# Extract prediction values from tensors (assuming they're single-valued)\n",
    "original_prediction = original_prediction.item()\n",
    "perturbed_prediction = perturbed_output.item()"
   ]
  },
  {
   "cell_type": "code",
   "execution_count": 52,
   "id": "ede8952b-e6fc-4aea-ae7d-8c5a1e315dcf",
   "metadata": {},
   "outputs": [],
   "source": [
    "# Preprocess images for visualization (adjust based on your preprocessing steps)\n",
    "original_image_vis = preprocess_image(img.clone())\n",
    "perturbed_image_vis = preprocess_image(perturbed_image.clone())"
   ]
  },
  {
   "cell_type": "code",
   "execution_count": 53,
   "id": "beedfbae-9f73-473e-848c-6f42b42d80aa",
   "metadata": {},
   "outputs": [
    {
     "data": {
      "image/png": "[encoded data removed]",
      "text/plain": [
       "<Figure size 640x480 with 2 Axes>"
      ]
     },
     "metadata": {},
     "output_type": "display_data"
    }
   ],
   "source": [
    "# Visualize the original image and the perturbed image with formatted predictions\n",
    "visualize_images(original_image_vis, perturbed_image_vis, title=f\"Original Prediction: {original_prediction:.4f}, Perturbed Prediction: {perturbed_prediction:.4f}\")"
   ]
  },
  {
   "cell_type": "code",
   "execution_count": 55,
   "id": "0d4cefde-8e1e-4a5c-b75b-38a75bb6eb14",
   "metadata": {},
   "outputs": [],
   "source": [
    "transformed_original = predict(original_prediction)\n",
    "transformed_perturbed = predict(perturbed_prediction)"
   ]
  },
  {
   "cell_type": "code",
   "execution_count": 56,
   "id": "ad0c405b-e719-4ca6-b7fa-f2d6ca95da8f",
   "metadata": {},
   "outputs": [
    {
     "name": "stdout",
     "output_type": "stream",
     "text": [
      "0.974510347366333 -0.14501840672492983\n"
     ]
    }
   ],
   "source": [
    "print(transformed_original, transformed_perturbed)"
   ]
  },
  {
   "cell_type": "code",
   "execution_count": null,
   "id": "e62a5df8-ee46-46f8-a20d-cf5cd84076eb",
   "metadata": {},
   "outputs": [],
   "source": []
  },
  {
   "cell_type": "code",
   "execution_count": null,
   "id": "d600c72c-d5b3-463c-9e23-41ea3d414631",
   "metadata": {},
   "outputs": [],
   "source": []
  }
 ],
 "metadata": {
  "kernelspec": {
   "display_name": "Python 3 (ipykernel)",
   "language": "python",
   "name": "python3"
  },
  "language_info": {
   "codemirror_mode": {
    "name": "ipython",
    "version": 3
   },
   "file_extension": ".py",
   "mimetype": "text/x-python",
   "name": "python",
   "nbconvert_exporter": "python",
   "pygments_lexer": "ipython3",
   "version": "3.11.7"
  }
 },
 "nbformat": 4,
 "nbformat_minor": 5
}
